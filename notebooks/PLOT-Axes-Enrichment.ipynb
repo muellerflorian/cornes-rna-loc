{
 "cells": [
  {
   "cell_type": "code",
   "execution_count": null,
   "metadata": {},
   "outputs": [],
   "source": [
    "## Imports\n",
    "from pathlib import Path\n",
    "import matplotlib.pyplot as plt\n",
    "import pandas as pd\n",
    "import seaborn as sns\n",
    "\n",
    "# Set fonttype: necessary to save PDFs properly\n",
    "import matplotlib\n",
    "matplotlib.rcParams['pdf.fonttype'] = 42\n",
    "matplotlib.rcParams['ps.fonttype'] = 42\n",
    "matplotlib.rcParams['font.sans-serif'] = \"Arial\""
   ]
  },
  {
   "cell_type": "code",
   "execution_count": null,
   "metadata": {},
   "outputs": [],
   "source": [
    "## Load results\n",
    "\n",
    "# Folder containing the results of the axes enrichment analysis\n",
    "path_results = Path(r\"PASTE-FULL-PATH-TO-ANALYSIS-FOLDERs\")\n",
    "\n",
    "# Specify different data-sets (strings have to be part of the file-name)\n",
    "data_sets = ('mutanthrde1', 'mutantpiwi', 'WT')\n",
    "\n",
    "# Pixel-size in um\n",
    "pixel_size = 0.104  # um per pixel\n",
    "\n",
    "# Folder where plots should be saved\n",
    "path_save = Path(r'PASTE-FULL-PATH-TO-FOLDER-TO-SAVE-RESULTS')\n",
    "\n",
    "# Loop over all results (files ending wiht __binned.csv)\n",
    "df_list = []\n",
    "for f_results in path_results.glob('*__binned.csv'):\n",
    "\n",
    "    print(f'\\n\\n>>> Processing file\\n  {f_results}')\n",
    "\n",
    "    # Check which data-set file corresponds to\n",
    "    data_set = [substring for substring in data_sets if(substring in f_results.name)] \n",
    "\n",
    "    if len(data_set) == 1:\n",
    "        df_loop = pd.read_csv(f_results)\n",
    "        df_loop['dist_bin_um'] = df_loop['dist_bin']*pixel_size\n",
    "        df_loop['file'] = f_results.name\n",
    "        df_loop['data_set'] = data_set[0]\n",
    "        df_list.append(df_loop)\n",
    "    else:\n",
    "        print(f'   !!! File could not be assigned to a data-set. {data_set}')\n",
    "\n",
    "df_all = pd.concat(df_list)"
   ]
  },
  {
   "cell_type": "code",
   "execution_count": null,
   "metadata": {},
   "outputs": [],
   "source": [
    "## PLOT RESULTS\n",
    "\n",
    "# >>> Combined line-plots with mean +/- standard deviation\n",
    "plt.figure(figsize=(5, 4))\n",
    "ax = sns.lineplot(x=\"dist_bin_um\", y=\"n_rna_bin\", hue='data_set', data=df_all)\n",
    "plt.xlabel('Distance from loop [um]', fontsize=14)\n",
    "plt.ylabel('# of RNAs/bin', fontsize=14)\n",
    "ax.tick_params(axis='both', which='major', labelsize=12)\n",
    "plt.xlim(-50, 100)\n",
    "plt.tight_layout()\n",
    "\n",
    "plt.savefig(path_save / 'line_plots_ci.png', dpi=300)\n",
    "plt.savefig(path_save / 'line_plots_ci.pdf')\n",
    "\n",
    "# >>> Generate separate plot for each of the specified data-sets\n",
    "\n",
    "for data_set in data_sets:\n",
    "\n",
    "    plt.figure(figsize=(5, 4))\n",
    "    ax = sns.lineplot(x=\"dist_bin_um\", y=\"n_rna_bin\",\n",
    "                      units=\"file\", estimator=None,\n",
    "                      data=df_all.query(\"data_set == @data_set\"))\n",
    "    plt.xlabel('Distance from loop [um]', fontsize=14)\n",
    "    plt.ylabel('# of RNAs/bin', fontsize=14)\n",
    "    ax.tick_params(axis='both', which='major', labelsize=12)\n",
    "    plt.xlim(-50, 100)\n",
    "    plt.tight_layout()\n",
    "\n",
    "    plt.savefig(path_save / f'line_plots__{data_set}.png', dpi=300)\n",
    "    plt.savefig(path_save / f'line_plots__{data_set}.pdf')"
   ]
  }
 ],
 "metadata": {
  "kernelspec": {
   "display_name": "Python (fq-imjoy)",
   "language": "python",
   "name": "fq-imjoy"
  },
  "language_info": {
   "codemirror_mode": {
    "name": "ipython",
    "version": 3
   },
   "file_extension": ".py",
   "mimetype": "text/x-python",
   "name": "python",
   "nbconvert_exporter": "python",
   "pygments_lexer": "ipython3",
   "version": "3.7.6"
  }
 },
 "nbformat": 4,
 "nbformat_minor": 4
}